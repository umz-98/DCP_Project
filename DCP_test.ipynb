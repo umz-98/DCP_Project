{
 "cells": [
  {
   "cell_type": "code",
   "execution_count": 274,
   "metadata": {},
   "outputs": [
    {
     "name": "stderr",
     "output_type": "stream",
     "text": [
      "\n",
      "\n",
      "====== WebDriver manager ======\n",
      "Current google-chrome version is 101.0.4951\n",
      "Get LATEST chromedriver version for 101.0.4951 google-chrome\n",
      "Driver [/Users/FKhan/.wdm/drivers/chromedriver/mac64/101.0.4951.41/chromedriver] found in cache\n"
     ]
    }
   ],
   "source": [
    "from scraper.scraper import Scraper \n",
    "bot = Scraper()\n",
    "bot.accept_cookies()"
   ]
  },
  {
   "cell_type": "code",
   "execution_count": 275,
   "metadata": {},
   "outputs": [],
   "source": [
    "bot.keys_search('hoodies')"
   ]
  },
  {
   "cell_type": "code",
   "execution_count": 27,
   "metadata": {},
   "outputs": [
    {
     "data": {
      "text/plain": [
       "<selenium.webdriver.remote.webelement.WebElement (session=\"ed54465c95759096bde24fad89e7c477\", element=\"37594e66-512d-4ea5-8bb9-de34473dc76b\")>"
      ]
     },
     "execution_count": 27,
     "metadata": {},
     "output_type": "execute_result"
    }
   ],
   "source": [
    "bot.next_button()"
   ]
  },
  {
   "cell_type": "code",
   "execution_count": 276,
   "metadata": {},
   "outputs": [],
   "source": [
    "container = bot.product_container()"
   ]
  },
  {
   "cell_type": "code",
   "execution_count": 277,
   "metadata": {},
   "outputs": [],
   "source": [
    "from lib2to3.pgen2 import driver\n",
    "from time import time\n",
    "from typing_extensions import Self\n",
    "from selenium.webdriver import Chrome\n",
    "from selenium.webdriver.common.keys import Keys\n",
    "from selenium.webdriver.common.by import By\n",
    "from selenium.webdriver.support.ui import WebDriverWait\n",
    "from selenium.webdriver.support import expected_conditions as EC\n",
    "from selenium.common.exceptions import TimeoutException\n",
    "from webdriver_manager.chrome import ChromeDriverManager\n"
   ]
  },
  {
   "cell_type": "code",
   "execution_count": 278,
   "metadata": {},
   "outputs": [],
   "source": [
    "list_properties = container.find_elements(By.XPATH, './ul/li')\n",
    "imageLinks = container.find_elements(By.XPATH, \"./ul/li/span/a/picture\")"
   ]
  },
  {
   "cell_type": "code",
   "execution_count": 279,
   "metadata": {},
   "outputs": [],
   "source": [
    "link_list = []\n",
    "for property in list_properties:\n",
    "    link_list.append(property.find_element(By.TAG_NAME, 'a').get_attribute('href'))\n",
    "imageNames = []\n",
    "for element in imageLinks:\n",
    "    imageNames.append(element.find_element(By.TAG_NAME, 'img').get_attribute(\"src\"))    "
   ]
  },
  {
   "cell_type": "code",
   "execution_count": 309,
   "metadata": {},
   "outputs": [],
   "source": [
    "from sqlalchemy import create_engine\n",
    "DATABASE_TYPE = 'postgresql'\n",
    "DBAPI = 'psycopg2'\n",
    "ENDPOINT = 'dcp1.ckiqoi4xq1wx.eu-west-2.rds.amazonaws.com' \n",
    "USER = 'postgres'\n",
    "PASSWORD = 'Hamburg98'\n",
    "PORT = 5432\n",
    "DATABASE = 'postgres'\n",
    "engine = create_engine(f\"{DATABASE_TYPE}+{DBAPI}://{USER}:{PASSWORD}@{ENDPOINT}:{PORT}/{DATABASE}\")\n",
    "df = pd.read_sql('test_1', engine)\n",
    "id_scraper = list(df['id'])\n",
    "image_scraper = list(df['imagelinks_1'])"
   ]
  },
  {
   "cell_type": "code",
   "execution_count": 325,
   "metadata": {},
   "outputs": [],
   "source": [
    "import time\n",
    "import uuid\n",
    "property_dict = {'link':[],\n",
    "                 'price':[],\n",
    "                 'name':[],\n",
    "                 'id' :[],\n",
    "                 'UUID':[],\n",
    "                 'imagelinks_1':[],\n",
    "                }\n",
    "\n",
    "interger2 = 0\n",
    "interger = 0\n",
    "for link in link_list[0:3]:\n",
    "    bot.driver.get(link)\n",
    "    bot.driver.execute_script(\"window.scrollTo(0,1100)\")  \n",
    "    time.sleep(4)\n",
    "    bot.clicker()\n",
    "    time.sleep(1)\n",
    "    id = bot.driver.find_element(By.XPATH, '//span[@class=\"product-code\"]') \n",
    "    x2 = id.text   \n",
    "    # cur = engine.execute(f'''SELECT * from test_1 where \"id\" = '{id}' ''')\n",
    "    # # if cur.fetchone():\n",
    "    # #     continue\n",
    "    # if not cur.fetchone():\n",
    "    if x2 in id_scraper:\n",
    "        \n",
    "        interger += 1\n",
    "        continue\n",
    "    else:\n",
    "        # bot.driver.get(link)\n",
    "        # bot.driver.execute_script(\"window.scrollTo(0,1100)\")  \n",
    "        # time.sleep(4)\n",
    "        # bot.clicker()\n",
    "        # time.sleep(1)\n",
    "        interger2 += 1\n",
    "        property_dict['id'].append(id.text)  \n",
    "        property_dict['link'].append(link)\n",
    "        # price = bot.driver.find_element(By.XPATH, '//span[@class=\"pri\"]')\n",
    "        price = bot.driver.find_element(By.XPATH, '//span[@data-e2e=\"product-price\"]')\n",
    "        property_dict['price'].append(price.text)\n",
    "        name = bot.driver.find_element(By.XPATH, '//h1[@itemprop=\"name\"]')\n",
    "        property_dict['name'].append(name.text)\n",
    "        # id = bot.driver.find_element(By.XPATH, '//span[@class=\"product-code\"]')\n",
    "        # property_dict['id'].append(id.text)   \n",
    "        property_dict['UUID'].append(uuid.uuid4())\n",
    "        # imageLinks_1 = WebDriverWait(bot.driver, 6).until(EC.presence_of_element_located((By.TAG_NAME, 'img').get_attribute(\"src\")))\n",
    "        # # bot.driver.find_element(By.TAG_NAME, 'img').get_attribute(\"src\")\n",
    "        # property_dict['imagelinks_1'].append(imageLinks_1)\n",
    "\n",
    "# for image in imageNames[0:2]:\n",
    "#     bot.driver.get(image)\n",
    "#     time.sleep(1)\n",
    "#     property_dict['imagelinks_1'].append(image)        \n"
   ]
  },
  {
   "cell_type": "code",
   "execution_count": 326,
   "metadata": {},
   "outputs": [],
   "source": [
    "import time\n",
    "interger = 0\n",
    "interger2 = 0\n",
    "for image in imageNames[0:3]:\n",
    "    bot.driver.get(image)\n",
    "    time.sleep(2)\n",
    "    k = image\n",
    "    if k in image_scraper:\n",
    "        interger += 1\n",
    "        continue\n",
    "    else:\n",
    "        interger2 += 1\n",
    "        property_dict['imagelinks_1'].append(image)   "
   ]
  },
  {
   "cell_type": "code",
   "execution_count": 328,
   "metadata": {},
   "outputs": [
    {
     "data": {
      "text/plain": [
       "{'link': ['https://www.jdsports.co.uk/product/blue-nicce-central-logo-hoodie/16485854/'],\n",
       " 'price': ['£45.00'],\n",
       " 'name': ['Nicce Central Logo Hoodie'],\n",
       " 'id': ['Product Code: 16485854/548688'],\n",
       " 'UUID': [UUID('f277156c-cf8e-46b9-bec4-cb89923d3688')],\n",
       " 'imagelinks_1': ['https://i8.amplience.net/t/jpl/jd_product_list?plu=jd_548688_plc&qlt=92&exclusive=0&wid=363&hei=463&v=1&fmt=auto']}"
      ]
     },
     "execution_count": 328,
     "metadata": {},
     "output_type": "execute_result"
    }
   ],
   "source": [
    "property_dict"
   ]
  },
  {
   "cell_type": "code",
   "execution_count": 209,
   "metadata": {},
   "outputs": [],
   "source": [
    "import json\n",
    "from uuid import UUID\n",
    "\n",
    "\n",
    "class UUIDEncoder(json.JSONEncoder):\n",
    "    def default(self, obj):\n",
    "        if isinstance(obj, UUID):\n",
    "            return obj.hex\n",
    "        return json.JSONEncoder.default(self, obj)\n",
    "j = json.dumps(property_dict, cls=UUIDEncoder, indent=4)\n",
    "f = open('Jordan_trainers.json', 'w')\n",
    "print(j, file=f)\n",
    "f.close()"
   ]
  },
  {
   "cell_type": "code",
   "execution_count": 329,
   "metadata": {},
   "outputs": [],
   "source": [
    "import pandas as pd \n",
    "x = pd.DataFrame(property_dict)"
   ]
  },
  {
   "cell_type": "code",
   "execution_count": 330,
   "metadata": {},
   "outputs": [
    {
     "data": {
      "text/html": [
       "<div>\n",
       "<style scoped>\n",
       "    .dataframe tbody tr th:only-of-type {\n",
       "        vertical-align: middle;\n",
       "    }\n",
       "\n",
       "    .dataframe tbody tr th {\n",
       "        vertical-align: top;\n",
       "    }\n",
       "\n",
       "    .dataframe thead th {\n",
       "        text-align: right;\n",
       "    }\n",
       "</style>\n",
       "<table border=\"1\" class=\"dataframe\">\n",
       "  <thead>\n",
       "    <tr style=\"text-align: right;\">\n",
       "      <th></th>\n",
       "      <th>link</th>\n",
       "      <th>price</th>\n",
       "      <th>name</th>\n",
       "      <th>id</th>\n",
       "      <th>UUID</th>\n",
       "      <th>imagelinks_1</th>\n",
       "    </tr>\n",
       "  </thead>\n",
       "  <tbody>\n",
       "    <tr>\n",
       "      <th>0</th>\n",
       "      <td>https://www.jdsports.co.uk/product/blue-nicce-...</td>\n",
       "      <td>£45.00</td>\n",
       "      <td>Nicce Central Logo Hoodie</td>\n",
       "      <td>Product Code: 16485854/548688</td>\n",
       "      <td>f277156c-cf8e-46b9-bec4-cb89923d3688</td>\n",
       "      <td>https://i8.amplience.net/t/jpl/jd_product_list...</td>\n",
       "    </tr>\n",
       "  </tbody>\n",
       "</table>\n",
       "</div>"
      ],
      "text/plain": [
       "                                                link   price  \\\n",
       "0  https://www.jdsports.co.uk/product/blue-nicce-...  £45.00   \n",
       "\n",
       "                        name                             id  \\\n",
       "0  Nicce Central Logo Hoodie  Product Code: 16485854/548688   \n",
       "\n",
       "                                   UUID  \\\n",
       "0  f277156c-cf8e-46b9-bec4-cb89923d3688   \n",
       "\n",
       "                                        imagelinks_1  \n",
       "0  https://i8.amplience.net/t/jpl/jd_product_list...  "
      ]
     },
     "execution_count": 330,
     "metadata": {},
     "output_type": "execute_result"
    }
   ],
   "source": [
    "x"
   ]
  },
  {
   "cell_type": "code",
   "execution_count": 7,
   "metadata": {},
   "outputs": [],
   "source": [
    "import pandas as pd\n",
    "lf = pd.read_json('/Users/FKhan/Downloads/miniconda3/DCP_Project/raw_data/Nike caps/data.json')\n",
    "y = pd.DataFrame(lf)"
   ]
  },
  {
   "cell_type": "code",
   "execution_count": 254,
   "metadata": {},
   "outputs": [],
   "source": [
    "from sqlalchemy import create_engine\n",
    "DATABASE_TYPE = 'postgresql'\n",
    "DBAPI = 'psycopg2'\n",
    "ENDPOINT = 'dcp1.ckiqoi4xq1wx.eu-west-2.rds.amazonaws.com' \n",
    "USER = 'postgres'\n",
    "PASSWORD = 'Hamburg98'\n",
    "PORT = 5432\n",
    "DATABASE = 'postgres'\n",
    "engine = create_engine(f\"{DATABASE_TYPE}+{DBAPI}://{USER}:{PASSWORD}@{ENDPOINT}:{PORT}/{DATABASE}\")\n",
    "df = pd.read_sql('test_1', engine)\n",
    "id_scraper = list(df['id'])"
   ]
  },
  {
   "cell_type": "code",
   "execution_count": 255,
   "metadata": {},
   "outputs": [
    {
     "data": {
      "text/plain": [
       "4"
      ]
     },
     "execution_count": 255,
     "metadata": {},
     "output_type": "execute_result"
    }
   ],
   "source": [
    "x.to_sql('test_1', con= engine, if_exists='append', index=False )"
   ]
  },
  {
   "cell_type": "code",
   "execution_count": 98,
   "metadata": {},
   "outputs": [],
   "source": [
    "imageLinks = container.find_elements(By.XPATH, \"./ul/li/span/a/picture\")"
   ]
  },
  {
   "cell_type": "code",
   "execution_count": 99,
   "metadata": {},
   "outputs": [],
   "source": [
    "imageNames = []\n",
    "for element in imageLinks:\n",
    "    imageNames.append(element.find_element(By.TAG_NAME, 'img').get_attribute(\"src\"))"
   ]
  },
  {
   "cell_type": "code",
   "execution_count": 213,
   "metadata": {},
   "outputs": [],
   "source": [
    "bot.multiple_image_2(list=imageNames[0:13], file_path='/Users/FKhan/Downloads/miniconda3/DCP_Project/raw_data/Jordan_trainers/')"
   ]
  },
  {
   "cell_type": "code",
   "execution_count": 396,
   "metadata": {},
   "outputs": [
    {
     "name": "stdout",
     "output_type": "stream",
     "text": [
      "downloaded!\n"
     ]
    }
   ],
   "source": [
    "# this function will aid with downloading images using the specific image link (its another way of dowloading compared to the one below)\n",
    "import urllib.request\n",
    "def search_image():\n",
    "        url = 'https://i8.amplience.net/t/jpl/jd_product_list?plu=jd_355655_plc&qlt=92&w=363&h=463&v=1&fmt=auto'\n",
    "        opener = urllib.request.build_opener()\n",
    "        opener.addheaders = [('User-Agent', 'Mozilla/5.0 (Macintosh; Intel Mac OS X 10_13_6) AppleWebKit/537.36 (KHTML, like Gecko) Chrome/99.0.4844.51 Safari/537.36')]\n",
    "        urllib.request.install_opener(opener)\n",
    "        urllib.request.urlretrieve(\n",
    "        url, f'Nike_Hat_27.png')\n",
    "        print(f'downloaded!')\n",
    "try:\n",
    "    search_image()\n",
    "except: print('Thats not a valid url')"
   ]
  },
  {
   "cell_type": "code",
   "execution_count": 5,
   "metadata": {},
   "outputs": [],
   "source": [
    "# This function saves images using the product link rather than image link and saves in chosen path\n",
    "bot.image_download(url = 'https://www.jdsports.co.uk/product/adidas-originals-camo-baseball-cap/16239652/', file_name='adidas_cap_2', file_path='/Users/FKhan/Downloads/miniconda3/DCP_Project/raw_data/')"
   ]
  },
  {
   "cell_type": "code",
   "execution_count": 214,
   "metadata": {},
   "outputs": [],
   "source": [
    "import boto3\n",
    "s3_client = boto3.client('s3')"
   ]
  },
  {
   "cell_type": "code",
   "execution_count": 215,
   "metadata": {},
   "outputs": [],
   "source": [
    "# To upload multple files\n",
    "import glob\n",
    "png_files = glob.glob('/Users/FKhan/Downloads/miniconda3/DCP_Project/raw_data/Jordan_trainers/*.png')\n",
    "\n",
    "for filename in png_files:\n",
    "    s3_client.upload_file(filename, 'dcp1', filename)"
   ]
  },
  {
   "cell_type": "code",
   "execution_count": 216,
   "metadata": {},
   "outputs": [],
   "source": [
    "# To upload individual files\n",
    "response = s3_client.upload_file('/Users/FKhan/Downloads/miniconda3/DCP_Project/raw_data/Jordan_trainers/Jordan_trainers.json', 'dcp1', 'Jordan_trainers.json')"
   ]
  },
  {
   "cell_type": "code",
   "execution_count": 49,
   "metadata": {},
   "outputs": [],
   "source": [
    "# To download files from a bucket\n",
    "import requests\n",
    "url = 'https://dcp1.s3.eu-west-2.amazonaws.com/Nike+caps/Nike_Hat_023018_023018.png'\n",
    "\n",
    "response = requests.get(url)\n",
    "with open('blastoise.png', 'wb') as f:\n",
    "    f.write(response.content)"
   ]
  }
 ],
 "metadata": {
  "interpreter": {
   "hash": "f5283efd964521479c1e2675867ad3fd27fa7e3df3e3049d84d50d2b95e92885"
  },
  "kernelspec": {
   "display_name": "Python 3.9.10 ('test')",
   "language": "python",
   "name": "python3"
  },
  "language_info": {
   "codemirror_mode": {
    "name": "ipython",
    "version": 3
   },
   "file_extension": ".py",
   "mimetype": "text/x-python",
   "name": "python",
   "nbconvert_exporter": "python",
   "pygments_lexer": "ipython3",
   "version": "3.9.10"
  },
  "orig_nbformat": 4
 },
 "nbformat": 4,
 "nbformat_minor": 2
}
