{
 "cells": [
  {
   "cell_type": "code",
   "execution_count": 17,
   "metadata": {},
   "outputs": [
    {
     "name": "stderr",
     "output_type": "stream",
     "text": [
      "\n",
      "\n",
      "====== WebDriver manager ======\n",
      "Current google-chrome version is 100.0.4896\n",
      "Get LATEST chromedriver version for 100.0.4896 google-chrome\n",
      "Trying to download new driver from https://chromedriver.storage.googleapis.com/100.0.4896.60/chromedriver_mac64.zip\n",
      "Driver has been saved in cache [/Users/FKhan/.wdm/drivers/chromedriver/mac64/100.0.4896.60]\n"
     ]
    }
   ],
   "source": [
    "from scraper.scraper import Scraper \n",
    "bot = Scraper()\n",
    "bot.accept_cookies()"
   ]
  },
  {
   "cell_type": "code",
   "execution_count": 18,
   "metadata": {},
   "outputs": [],
   "source": [
    "bot.keys_search('trousers')"
   ]
  },
  {
   "cell_type": "code",
   "execution_count": 15,
   "metadata": {},
   "outputs": [
    {
     "data": {
      "text/plain": [
       "<selenium.webdriver.remote.webelement.WebElement (session=\"fe0138bb9509141626eff2aac1b6f60e\", element=\"213af2bd-c837-4237-a303-6da7a99141e9\")>"
      ]
     },
     "execution_count": 15,
     "metadata": {},
     "output_type": "execute_result"
    }
   ],
   "source": [
    "bot.next_button()"
   ]
  },
  {
   "cell_type": "code",
   "execution_count": 19,
   "metadata": {},
   "outputs": [],
   "source": [
    "container = bot.product_container()"
   ]
  },
  {
   "cell_type": "code",
   "execution_count": 20,
   "metadata": {},
   "outputs": [],
   "source": [
    "from lib2to3.pgen2 import driver\n",
    "from time import time\n",
    "from typing_extensions import Self\n",
    "from selenium.webdriver import Chrome\n",
    "from selenium.webdriver.common.keys import Keys\n",
    "from selenium.webdriver.common.by import By\n",
    "from selenium.webdriver.support.ui import WebDriverWait\n",
    "from selenium.webdriver.support import expected_conditions as EC\n",
    "from selenium.common.exceptions import TimeoutException\n",
    "from webdriver_manager.chrome import ChromeDriverManager\n"
   ]
  },
  {
   "cell_type": "code",
   "execution_count": 22,
   "metadata": {},
   "outputs": [],
   "source": [
    "list_properties = container.find_elements(By.XPATH, './ul/li')"
   ]
  },
  {
   "cell_type": "code",
   "execution_count": 23,
   "metadata": {},
   "outputs": [],
   "source": [
    "link_list = []\n",
    "for property in list_properties:\n",
    "    link_list.append(property.find_element(By.TAG_NAME, 'a').get_attribute('href'))"
   ]
  },
  {
   "cell_type": "code",
   "execution_count": 40,
   "metadata": {},
   "outputs": [],
   "source": [
    "import time\n",
    "import uuid\n",
    "property_dict = {'link':[],\n",
    "                 'price':[],\n",
    "                 'name':[],\n",
    "                 'id' :[],\n",
    "                 'UUID':[],\n",
    "                 'imagelinks_1':[],\n",
    "                }\n",
    "\n",
    "\n",
    "for link in link_list[0:2]:\n",
    "    bot.driver.get(link)\n",
    "    time.sleep(1)\n",
    "    property_dict['link'].append(link)\n",
    "    price = bot.driver.find_element(By.XPATH, '//span[@class=\"pri\"]')\n",
    "    property_dict['price'].append(price.text)\n",
    "    name = bot.driver.find_element(By.XPATH, '//h1[@itemprop=\"name\"]')\n",
    "    property_dict['name'].append(name.text)\n",
    "    id = bot.driver.find_element(By.XPATH, '//span[@class=\"product-code\"]')\n",
    "    property_dict['id'].append(id.text)\n",
    "    property_dict['UUID'].append(uuid.uuid4())\n",
    "    imageLinks_1 = bot.driver.find_element(By.TAG_NAME, 'img').get_attribute(\"src\")\n",
    "    property_dict['imagelinks_1'].append(imageLinks_1)\n",
    "    "
   ]
  },
  {
   "cell_type": "code",
   "execution_count": 41,
   "metadata": {},
   "outputs": [
    {
     "data": {
      "text/plain": [
       "{'link': ['https://www.jdsports.co.uk/product/nike-sportswear-retro-fleece-trousers/16266071/',\n",
       "  'https://www.jdsports.co.uk/product/black-nike-nike-sportswear-mens-fleece-cargo-trousers/16268506/'],\n",
       " 'price': ['£65.00', '£60.00'],\n",
       " 'name': ['Nike Sportswear Retro Fleece Trousers',\n",
       "  \"Nike Nike Sportswear Men's Fleece Cargo Trousers\"],\n",
       " 'id': ['Product Code: 16266071/533420', 'Product Code: 16268506'],\n",
       " 'UUID': [UUID('283fdeed-bc00-4294-a7b1-2cf2b489559d'),\n",
       "  UUID('0f455c11-ef78-4a03-b025-d36e30995fb9')],\n",
       " 'imagelinks_1': ['https://i8.amplience.net/i/jpl/globalicon-20x13-700f5f7fe1dcfead6664368748c87f4c?qlt=100',\n",
       "  'https://i8.amplience.net/i/jpl/globalicon-20x13-700f5f7fe1dcfead6664368748c87f4c?qlt=100']}"
      ]
     },
     "execution_count": 41,
     "metadata": {},
     "output_type": "execute_result"
    }
   ],
   "source": [
    "property_dict"
   ]
  },
  {
   "cell_type": "code",
   "execution_count": 217,
   "metadata": {},
   "outputs": [],
   "source": [
    "import json\n",
    "from uuid import UUID\n",
    "\n",
    "\n",
    "class UUIDEncoder(json.JSONEncoder):\n",
    "    def default(self, obj):\n",
    "        if isinstance(obj, UUID):\n",
    "            return obj.hex\n",
    "        return json.JSONEncoder.default(self, obj)\n",
    "j = json.dumps(property_dict, cls=UUIDEncoder, indent=4)\n",
    "f = open('data.json', 'w')\n",
    "print(j, file=f)\n",
    "f.close()"
   ]
  },
  {
   "cell_type": "code",
   "execution_count": 5,
   "metadata": {},
   "outputs": [
    {
     "ename": "NameError",
     "evalue": "name 'property_dict' is not defined",
     "output_type": "error",
     "traceback": [
      "\u001b[0;31m---------------------------------------------------------------------------\u001b[0m",
      "\u001b[0;31mNameError\u001b[0m                                 Traceback (most recent call last)",
      "Input \u001b[0;32mIn [5]\u001b[0m, in \u001b[0;36m<module>\u001b[0;34m\u001b[0m\n\u001b[1;32m      1\u001b[0m \u001b[39mimport\u001b[39;00m \u001b[39mpandas\u001b[39;00m \u001b[39mas\u001b[39;00m \u001b[39mpd\u001b[39;00m \n\u001b[0;32m----> 2\u001b[0m pd\u001b[39m.\u001b[39mDataFrame(property_dict)\n",
      "\u001b[0;31mNameError\u001b[0m: name 'property_dict' is not defined"
     ]
    }
   ],
   "source": [
    "import pandas as pd \n",
    "pd.DataFrame(property_dict)"
   ]
  },
  {
   "cell_type": "code",
   "execution_count": 6,
   "metadata": {},
   "outputs": [],
   "source": [
    "import pandas as pd"
   ]
  },
  {
   "cell_type": "code",
   "execution_count": 7,
   "metadata": {},
   "outputs": [],
   "source": [
    "df = pd.read_json('/Users/FKhan/Downloads/miniconda3/DCP_Project/raw_data/Nike caps/data.json')\n",
    "y = pd.DataFrame(df)"
   ]
  },
  {
   "cell_type": "code",
   "execution_count": 8,
   "metadata": {},
   "outputs": [],
   "source": [
    "from sqlalchemy import create_engine\n",
    "DATABASE_TYPE = 'postgresql'\n",
    "DBAPI = 'psycopg2'\n",
    "ENDPOINT = 'dcp1.ckiqoi4xq1wx.eu-west-2.rds.amazonaws.com' \n",
    "USER = 'postgres'\n",
    "PASSWORD = 'Hamburg98'\n",
    "PORT = 5432\n",
    "DATABASE = 'postgres'\n",
    "engine = create_engine(f\"{DATABASE_TYPE}+{DBAPI}://{USER}:{PASSWORD}@{ENDPOINT}:{PORT}/{DATABASE}\")"
   ]
  },
  {
   "cell_type": "code",
   "execution_count": 9,
   "metadata": {},
   "outputs": [
    {
     "data": {
      "text/plain": [
       "27"
      ]
     },
     "execution_count": 9,
     "metadata": {},
     "output_type": "execute_result"
    }
   ],
   "source": [
    "y.to_sql('Nike caps', con= engine, if_exists='append', index=False )"
   ]
  },
  {
   "cell_type": "code",
   "execution_count": 5,
   "metadata": {},
   "outputs": [],
   "source": [
    "imageLinks = container.find_elements(By.XPATH, \"./ul/li/span/a/picture\")"
   ]
  },
  {
   "cell_type": "code",
   "execution_count": 6,
   "metadata": {},
   "outputs": [],
   "source": [
    "imageNames = []\n",
    "for element in imageLinks:\n",
    "    imageNames.append(element.find_element(By.TAG_NAME, 'img').get_attribute(\"src\"))"
   ]
  },
  {
   "cell_type": "code",
   "execution_count": 7,
   "metadata": {},
   "outputs": [],
   "source": [
    "bot.multiple_image_2(list=imageNames[0:5], file_path='/Users/FKhan/Downloads/miniconda3/DCP_Project/raw_data/')"
   ]
  },
  {
   "cell_type": "code",
   "execution_count": 396,
   "metadata": {},
   "outputs": [
    {
     "name": "stdout",
     "output_type": "stream",
     "text": [
      "downloaded!\n"
     ]
    }
   ],
   "source": [
    "# this function will aid with downloading images using the specific image link (its another way of dowloading compared to the one below)\n",
    "import urllib.request\n",
    "def search_image():\n",
    "        url = 'https://i8.amplience.net/t/jpl/jd_product_list?plu=jd_355655_plc&qlt=92&w=363&h=463&v=1&fmt=auto'\n",
    "        opener = urllib.request.build_opener()\n",
    "        opener.addheaders = [('User-Agent', 'Mozilla/5.0 (Macintosh; Intel Mac OS X 10_13_6) AppleWebKit/537.36 (KHTML, like Gecko) Chrome/99.0.4844.51 Safari/537.36')]\n",
    "        urllib.request.install_opener(opener)\n",
    "        urllib.request.urlretrieve(\n",
    "        url, f'Nike_Hat_27.png')\n",
    "        print(f'downloaded!')\n",
    "try:\n",
    "    search_image()\n",
    "except: print('Thats not a valid url')"
   ]
  },
  {
   "cell_type": "code",
   "execution_count": 5,
   "metadata": {},
   "outputs": [],
   "source": [
    "# This function saves images using the product link rather than image link and saves in chosen path\n",
    "bot.image_download(url = 'https://www.jdsports.co.uk/product/adidas-originals-camo-baseball-cap/16239652/', file_name='adidas_cap_2', file_path='/Users/FKhan/Downloads/miniconda3/DCP_Project/raw_data/')"
   ]
  },
  {
   "cell_type": "code",
   "execution_count": 6,
   "metadata": {},
   "outputs": [],
   "source": [
    "import boto3\n",
    "s3_client = boto3.client('s3')"
   ]
  },
  {
   "cell_type": "code",
   "execution_count": 47,
   "metadata": {},
   "outputs": [],
   "source": [
    "# To upload multple files\n",
    "import glob\n",
    "png_files = glob.glob('/Users/FKhan/Downloads/miniconda3/DCP_Project/raw_data/Nike caps/*.png')\n",
    "\n",
    "for filename in png_files:\n",
    "    s3_client.upload_file(filename, 'dcp1', filename)"
   ]
  },
  {
   "cell_type": "code",
   "execution_count": 32,
   "metadata": {},
   "outputs": [],
   "source": [
    "# To upload individual files\n",
    "response = s3_client.upload_file('/Users/FKhan/Downloads/miniconda3/DCP_Project/raw_data/Nike caps/Nike_Hat_15990063_355655.png', 'dcp1', 'Nike_Hat_15990063_355655.png')"
   ]
  },
  {
   "cell_type": "code",
   "execution_count": 49,
   "metadata": {},
   "outputs": [],
   "source": [
    "# To download files from a bucket\n",
    "import requests\n",
    "url = 'https://dcp1.s3.eu-west-2.amazonaws.com/Nike+caps/Nike_Hat_023018_023018.png'\n",
    "\n",
    "response = requests.get(url)\n",
    "with open('blastoise.png', 'wb') as f:\n",
    "    f.write(response.content)"
   ]
  }
 ],
 "metadata": {
  "interpreter": {
   "hash": "f5283efd964521479c1e2675867ad3fd27fa7e3df3e3049d84d50d2b95e92885"
  },
  "kernelspec": {
   "display_name": "Python 3.9.10 ('test')",
   "language": "python",
   "name": "python3"
  },
  "language_info": {
   "codemirror_mode": {
    "name": "ipython",
    "version": 3
   },
   "file_extension": ".py",
   "mimetype": "text/x-python",
   "name": "python",
   "nbconvert_exporter": "python",
   "pygments_lexer": "ipython3",
   "version": "3.9.10"
  },
  "orig_nbformat": 4
 },
 "nbformat": 4,
 "nbformat_minor": 2
}
