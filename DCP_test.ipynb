{
 "cells": [
  {
   "cell_type": "code",
   "execution_count": 202,
   "metadata": {},
   "outputs": [
    {
     "name": "stderr",
     "output_type": "stream",
     "text": [
      "\n",
      "\n",
      "====== WebDriver manager ======\n",
      "Current google-chrome version is 100.0.4896\n",
      "Get LATEST chromedriver version for 100.0.4896 google-chrome\n",
      "Driver [/Users/FKhan/.wdm/drivers/chromedriver/mac64/100.0.4896.60/chromedriver] found in cache\n"
     ]
    }
   ],
   "source": [
    "from scraper import Scraper \n",
    "bot = Scraper()\n",
    "bot.accept_cookies()"
   ]
  },
  {
   "cell_type": "code",
   "execution_count": 203,
   "metadata": {},
   "outputs": [],
   "source": [
    "bot.keys_search('nike caps')"
   ]
  },
  {
   "cell_type": "code",
   "execution_count": 188,
   "metadata": {},
   "outputs": [
    {
     "name": "stdout",
     "output_type": "stream",
     "text": [
      "No next button found\n"
     ]
    }
   ],
   "source": [
    "bot.next_button()"
   ]
  },
  {
   "cell_type": "code",
   "execution_count": 204,
   "metadata": {},
   "outputs": [],
   "source": [
    "container = bot.product_container()"
   ]
  },
  {
   "cell_type": "code",
   "execution_count": 205,
   "metadata": {},
   "outputs": [],
   "source": [
    "from lib2to3.pgen2 import driver\n",
    "from time import time\n",
    "from typing_extensions import Self\n",
    "from selenium.webdriver import Chrome\n",
    "from selenium.webdriver.common.keys import Keys\n",
    "from selenium.webdriver.common.by import By\n",
    "from selenium.webdriver.support.ui import WebDriverWait\n",
    "from selenium.webdriver.support import expected_conditions as EC\n",
    "from selenium.common.exceptions import TimeoutException\n",
    "from webdriver_manager.chrome import ChromeDriverManager\n"
   ]
  },
  {
   "cell_type": "code",
   "execution_count": 191,
   "metadata": {},
   "outputs": [],
   "source": [
    "list_properties = container.find_elements(By.XPATH, './ul/li')"
   ]
  },
  {
   "cell_type": "code",
   "execution_count": 192,
   "metadata": {},
   "outputs": [],
   "source": [
    "link_list = []\n",
    "for property in list_properties:\n",
    "    link_list.append(property.find_element(By.TAG_NAME, 'a').get_attribute('href'))"
   ]
  },
  {
   "cell_type": "code",
   "execution_count": 207,
   "metadata": {},
   "outputs": [],
   "source": [
    "import time\n",
    "import uuid\n",
    "property_dict = {'link':[],\n",
    "                 'price':[],\n",
    "                 'name':[],\n",
    "                #  'image_L':[],\n",
    "                 'id' :[],\n",
    "                 'UUID':[],\n",
    "                }\n",
    "\n",
    "for link in link_list[0:5]:\n",
    "    bot.driver.get(link)\n",
    "    time.sleep(1)\n",
    "    property_dict['link'].append(link)\n",
    "    price = bot.driver.find_element(By.XPATH, '//span[@class=\"pri\"]')\n",
    "    property_dict['price'].append(price.text)\n",
    "    # image_L = bot.driver.find_element(By.XPATH, '//img[@src=\"\"]')\n",
    "    # property_dict['image_L'].append(image_L.text)\n",
    "    name = bot.driver.find_element(By.XPATH, '//h1[@itemprop=\"name\"]')\n",
    "    property_dict['name'].append(name.text)\n",
    "    id = bot.driver.find_element(By.XPATH, '//span[@class=\"product-code\"]')\n",
    "    property_dict['id'].append(id.text)\n",
    "    property_dict['UUID'].append(uuid.uuid4())\n",
    "    "
   ]
  },
  {
   "cell_type": "code",
   "execution_count": 194,
   "metadata": {},
   "outputs": [
    {
     "data": {
      "text/plain": [
       "{'link': ['https://www.jdsports.co.uk/product/grey-nike-heritage-86-swoosh-cap/16474497/',\n",
       "  'https://www.jdsports.co.uk/product/green-nike-sportswear-heritage86-cap/16453825/',\n",
       "  'https://www.jdsports.co.uk/product/black-nike-sportswear-classic-99-trucker-cap/16253171/',\n",
       "  'https://www.jdsports.co.uk/product/black-nike-heritage86-cap-womens/16154660/',\n",
       "  'https://www.jdsports.co.uk/product/black-nike-l91-futura-cap/16069344/'],\n",
       " 'price': ['£15.00', '£25.00', '£25.00', '£23.00', '£23.00'],\n",
       " 'name': [\"Nike Heritage '86 Swoosh Cap\",\n",
       "  'Nike Sportswear Heritage86 Cap',\n",
       "  'Nike Sportswear Classic 99 Trucker Cap',\n",
       "  \"Nike Heritage86 Cap Women's\",\n",
       "  'Nike L91 Futura Cap'],\n",
       " 'id': ['Product Code: 16474497/474027',\n",
       "  'Product Code: 16453825/474048',\n",
       "  'Product Code: 16253171/506339',\n",
       "  'Product Code: 16154660/506521',\n",
       "  'Product Code: 16069344/393535'],\n",
       " 'UUID': [UUID('473976a2-5355-4202-866a-3df7482613fa'),\n",
       "  UUID('0b4b4d08-70ba-4abd-b583-84b19c33ffa5'),\n",
       "  UUID('9d10e927-5234-4fdf-8c4d-53959984c788'),\n",
       "  UUID('28f77724-bab7-4200-a06d-982057721e3f'),\n",
       "  UUID('d590ad07-f2e0-49c8-8fef-29d01e15e240')]}"
      ]
     },
     "execution_count": 194,
     "metadata": {},
     "output_type": "execute_result"
    }
   ],
   "source": [
    "property_dict"
   ]
  },
  {
   "cell_type": "code",
   "execution_count": 196,
   "metadata": {},
   "outputs": [],
   "source": [
    "import json\n",
    "from uuid import UUID\n",
    "\n",
    "\n",
    "class UUIDEncoder(json.JSONEncoder):\n",
    "    def default(self, obj):\n",
    "        if isinstance(obj, UUID):\n",
    "            return obj.hex\n",
    "        return json.JSONEncoder.default(self, obj)\n",
    "j = json.dumps(property_dict, cls=UUIDEncoder, indent=4)\n",
    "f = open('data.json', 'w')\n",
    "print(j, file=f)\n",
    "f.close()"
   ]
  },
  {
   "cell_type": "code",
   "execution_count": 195,
   "metadata": {},
   "outputs": [
    {
     "data": {
      "text/html": [
       "<div>\n",
       "<style scoped>\n",
       "    .dataframe tbody tr th:only-of-type {\n",
       "        vertical-align: middle;\n",
       "    }\n",
       "\n",
       "    .dataframe tbody tr th {\n",
       "        vertical-align: top;\n",
       "    }\n",
       "\n",
       "    .dataframe thead th {\n",
       "        text-align: right;\n",
       "    }\n",
       "</style>\n",
       "<table border=\"1\" class=\"dataframe\">\n",
       "  <thead>\n",
       "    <tr style=\"text-align: right;\">\n",
       "      <th></th>\n",
       "      <th>link</th>\n",
       "      <th>price</th>\n",
       "      <th>name</th>\n",
       "      <th>id</th>\n",
       "      <th>UUID</th>\n",
       "    </tr>\n",
       "  </thead>\n",
       "  <tbody>\n",
       "    <tr>\n",
       "      <th>0</th>\n",
       "      <td>https://www.jdsports.co.uk/product/grey-nike-h...</td>\n",
       "      <td>£15.00</td>\n",
       "      <td>Nike Heritage '86 Swoosh Cap</td>\n",
       "      <td>Product Code: 16474497/474027</td>\n",
       "      <td>473976a2-5355-4202-866a-3df7482613fa</td>\n",
       "    </tr>\n",
       "    <tr>\n",
       "      <th>1</th>\n",
       "      <td>https://www.jdsports.co.uk/product/green-nike-...</td>\n",
       "      <td>£25.00</td>\n",
       "      <td>Nike Sportswear Heritage86 Cap</td>\n",
       "      <td>Product Code: 16453825/474048</td>\n",
       "      <td>0b4b4d08-70ba-4abd-b583-84b19c33ffa5</td>\n",
       "    </tr>\n",
       "    <tr>\n",
       "      <th>2</th>\n",
       "      <td>https://www.jdsports.co.uk/product/black-nike-...</td>\n",
       "      <td>£25.00</td>\n",
       "      <td>Nike Sportswear Classic 99 Trucker Cap</td>\n",
       "      <td>Product Code: 16253171/506339</td>\n",
       "      <td>9d10e927-5234-4fdf-8c4d-53959984c788</td>\n",
       "    </tr>\n",
       "    <tr>\n",
       "      <th>3</th>\n",
       "      <td>https://www.jdsports.co.uk/product/black-nike-...</td>\n",
       "      <td>£23.00</td>\n",
       "      <td>Nike Heritage86 Cap Women's</td>\n",
       "      <td>Product Code: 16154660/506521</td>\n",
       "      <td>28f77724-bab7-4200-a06d-982057721e3f</td>\n",
       "    </tr>\n",
       "    <tr>\n",
       "      <th>4</th>\n",
       "      <td>https://www.jdsports.co.uk/product/black-nike-...</td>\n",
       "      <td>£23.00</td>\n",
       "      <td>Nike L91 Futura Cap</td>\n",
       "      <td>Product Code: 16069344/393535</td>\n",
       "      <td>d590ad07-f2e0-49c8-8fef-29d01e15e240</td>\n",
       "    </tr>\n",
       "  </tbody>\n",
       "</table>\n",
       "</div>"
      ],
      "text/plain": [
       "                                                link   price  \\\n",
       "0  https://www.jdsports.co.uk/product/grey-nike-h...  £15.00   \n",
       "1  https://www.jdsports.co.uk/product/green-nike-...  £25.00   \n",
       "2  https://www.jdsports.co.uk/product/black-nike-...  £25.00   \n",
       "3  https://www.jdsports.co.uk/product/black-nike-...  £23.00   \n",
       "4  https://www.jdsports.co.uk/product/black-nike-...  £23.00   \n",
       "\n",
       "                                     name                             id  \\\n",
       "0            Nike Heritage '86 Swoosh Cap  Product Code: 16474497/474027   \n",
       "1          Nike Sportswear Heritage86 Cap  Product Code: 16453825/474048   \n",
       "2  Nike Sportswear Classic 99 Trucker Cap  Product Code: 16253171/506339   \n",
       "3             Nike Heritage86 Cap Women's  Product Code: 16154660/506521   \n",
       "4                     Nike L91 Futura Cap  Product Code: 16069344/393535   \n",
       "\n",
       "                                   UUID  \n",
       "0  473976a2-5355-4202-866a-3df7482613fa  \n",
       "1  0b4b4d08-70ba-4abd-b583-84b19c33ffa5  \n",
       "2  9d10e927-5234-4fdf-8c4d-53959984c788  \n",
       "3  28f77724-bab7-4200-a06d-982057721e3f  \n",
       "4  d590ad07-f2e0-49c8-8fef-29d01e15e240  "
      ]
     },
     "execution_count": 195,
     "metadata": {},
     "output_type": "execute_result"
    }
   ],
   "source": [
    "import pandas as pd \n",
    "pd.DataFrame(property_dict)"
   ]
  },
  {
   "cell_type": "code",
   "execution_count": 201,
   "metadata": {},
   "outputs": [
    {
     "name": "stdout",
     "output_type": "stream",
     "text": [
      "downloaded!\n"
     ]
    }
   ],
   "source": [
    "import urllib.request\n",
    "def search_image():\n",
    "        url = f'https://i8.amplience.net/i/jpl/jd_393535_a?qlt=92&amp;w=750&amp;h=957&amp;v=1&amp;fmt=auto'\n",
    "        opener = urllib.request.build_opener()\n",
    "        opener.addheaders = [('User-Agent', 'Mozilla/5.0 (Macintosh; Intel Mac OS X 10_13_6) AppleWebKit/537.36 (KHTML, like Gecko) Chrome/99.0.4844.51 Safari/537.36')]\n",
    "        urllib.request.install_opener(opener)\n",
    "        urllib.request.urlretrieve(\n",
    "        url, 'Nike_Hat_5.png')\n",
    "        print(f'downloaded!')\n",
    "try:\n",
    "    search_image()\n",
    "except: print('Thats not a valid pokemon name')"
   ]
  }
 ],
 "metadata": {
  "interpreter": {
   "hash": "f5283efd964521479c1e2675867ad3fd27fa7e3df3e3049d84d50d2b95e92885"
  },
  "kernelspec": {
   "display_name": "Python 3.9.10 ('test')",
   "language": "python",
   "name": "python3"
  },
  "language_info": {
   "codemirror_mode": {
    "name": "ipython",
    "version": 3
   },
   "file_extension": ".py",
   "mimetype": "text/x-python",
   "name": "python",
   "nbconvert_exporter": "python",
   "pygments_lexer": "ipython3",
   "version": "3.9.10"
  },
  "orig_nbformat": 4
 },
 "nbformat": 4,
 "nbformat_minor": 2
}
